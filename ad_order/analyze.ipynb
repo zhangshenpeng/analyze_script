{
 "cells": [
  {
   "cell_type": "code",
   "execution_count": 1,
   "metadata": {
    "collapsed": true
   },
   "outputs": [],
   "source": [
    "# -*- coding: utf-8 -*-\n",
    "import sys\n",
    "stdout = sys.stdout\n",
    "reload(sys)\n",
    "sys.setdefaultencoding('utf-8')\n",
    "sys.stdout = stdout\n",
    "import pandas as pd\n",
    "from pandas import Series\n",
    "from pandas import DataFrame\n",
    "import numpy as np\n",
    "from pylab import *\n",
    "mpl.rcParams['font.sans-serif'] = ['SimHei'] #指定默认字体    \n",
    "mpl.rcParams['axes.unicode_minus'] = False #解决保存图像是负号'-'显示为方块的问题 \n",
    "%matplotlib inline"
   ]
  },
  {
   "cell_type": "code",
   "execution_count": 2,
   "metadata": {
    "collapsed": true
   },
   "outputs": [],
   "source": [
    "def write_excel(df, name):\n",
    "    writer = pd.ExcelWriter('%s.xlsx' % name, engine='xlsxwriter')\n",
    "    df.to_excel(writer, sheet_name='Sheet1',index=False)\n",
    "    writer.save()"
   ]
  },
  {
   "cell_type": "code",
   "execution_count": 3,
   "metadata": {
    "collapsed": true
   },
   "outputs": [],
   "source": [
    "data = pd.read_csv(\"./export_20170522.csv.bak\")\n",
    "#设置列名\n",
    "data.columns=[\"OrderNum\", \"Category\", \"Product\", \n",
    "                     \"Price\", \"Phone\", \"Address\", \"OrderDate\", \"OrderTime\", \"Status\", \"Channel\"]"
   ]
  },
  {
   "cell_type": "code",
   "execution_count": 4,
   "metadata": {
    "collapsed": true
   },
   "outputs": [],
   "source": [
    "def removeChars(a):\n",
    "    a = a.replace(\"_\", \"\")\n",
    "    # 删除*之后的所有字符串\n",
    "    #a = a.replace(\"*\",\"\")\n",
    "    pos = a.find(\"*\")\n",
    "    if pos != -1:\n",
    "        return a[0:pos]\n",
    "    return a"
   ]
  },
  {
   "cell_type": "code",
   "execution_count": 5,
   "metadata": {
    "collapsed": true
   },
   "outputs": [],
   "source": [
    "\n",
    "def getProvince2(a):\n",
    "    pos = a.find(\"省\")\n",
    "    if pos != -1:\n",
    "        return a[0:pos+1]\n",
    "    # 启发式规则\n",
    "    default_citys = [\"上海市\",\"北京市\",\"重庆市\",\"天津市\"]\n",
    "    for city in default_citys:\n",
    "        if a.find(city) == 0:\n",
    "            return city\n",
    "    raise Exception(\"error province \" + a)\n",
    "    "
   ]
  },
  {
   "cell_type": "code",
   "execution_count": 6,
   "metadata": {
    "collapsed": true
   },
   "outputs": [],
   "source": [
    "def getProvince(a):\n",
    "    a\n",
    "    arrs = a.split(\"省\")\n",
    "    if len(arrs) >= 2:\n",
    "        return arrs[0] + \"省\"\n",
    "    # 启发式规则\n",
    "    default_citys = [\"上海市\",\"北京市\",\"重庆市\",\"天津市\",\"新疆维吾尔自治区\",\"西藏自治区\",\"广西壮族自治区\",\"内蒙古自治区\",\"宁夏回族自治区\"]\n",
    "    for city in default_citys:\n",
    "        if a.find(city) == 0:\n",
    "            return city\n",
    "    raise Exception(\"error province \" + a)"
   ]
  },
  {
   "cell_type": "code",
   "execution_count": 7,
   "metadata": {
    "collapsed": false
   },
   "outputs": [],
   "source": [
    "def getCity(a):\n",
    "    if len(a) == 0:\n",
    "        return \"默认\"\n",
    "    \n",
    "    arrs = a.split(\"市\")\n",
    "    if len(arrs) >= 2:\n",
    "        return arrs[0] + \"市\"\n",
    "    arrs = a.split(\"区\")\n",
    "    if len(arrs) >= 2:\n",
    "        return arrs[0] + \"区\"\n",
    "    arrs = a.split(\"县\")\n",
    "    if len(arrs) >= 2:\n",
    "        return arrs[0] + \"县\"\n",
    "    arrs = a.split(\"州\")\n",
    "    if len(arrs) >= 2:\n",
    "        return arrs[0] + \"州\"\n",
    "    \n",
    "    return a + \"市\"\n"
   ]
  },
  {
   "cell_type": "code",
   "execution_count": 8,
   "metadata": {
    "collapsed": true
   },
   "outputs": [],
   "source": [
    "def getCity2(a):\n",
    "    pos = a.find(\"市\")\n",
    "    if pos != -1:\n",
    "        return a[0:pos+1]\n",
    "    pos = a.find(\"县\")\n",
    "    if pos != -1:\n",
    "        return a[0:pos+1]\n",
    "    raise Exception(\"error city \" + a)"
   ]
  },
  {
   "cell_type": "code",
   "execution_count": 9,
   "metadata": {
    "collapsed": false
   },
   "outputs": [],
   "source": [
    "prefix_to_province = [\n",
    "    (\"重*****重*****\", \"重庆市\"),\n",
    "    (\"浙*****浙*****\",\"浙江省\"),\n",
    "    (\"云*****云*****\",\"云南省\"),\n",
    "    (\"四*****四*****\",\"四川省\"),\n",
    "    (\"上*****上*****\",\"上海市\"),\n",
    "    (\"陕*****陕*****\",\"陕西省\"),\n",
    "    (\"山*****山*****\",\"山东省\"),\n",
    "    (\"天*****天*****\",\"天津市\"),\n",
    "    (\"青*****青*****\",\"青海省\"),\n",
    "    (\"辽*****辽*****\",\"辽宁省\"),\n",
    "    (\"吉*****吉*****\", \"吉林省\"),\n",
    "    (\"湖*****湖*****\", \"湖北省\"),\n",
    "    (\"贵*****贵*****\", \"贵州省\"),\n",
    "    (\"甘*****甘*****\",\"甘肃省\"),\n",
    "    (\"福*****福*****\",\"福建省\"),\n",
    "    (\"北*****北*****\",\"北京市\"),\n",
    "    (\"安*****安*****\",\"安徽省\")\n",
    "    ]\n",
    "province_to_realname = {\n",
    "    \"上海省\": \"上海市\",\n",
    "    \"内蒙古省\": \"内蒙古自治区\",\n",
    "    \"广西省\": \"广西壮族自治区\",\n",
    "    \"新疆省\": \"新疆维吾尔自治区\",\n",
    "    \"西藏省\": \"西藏自治区\",\n",
    "    \"重庆省\": \"重庆市\",\n",
    "    \"北京省\": \"北京市\"\n",
    "}\n",
    "def handleSpecial(a):\n",
    "    province = None;city = \"默认\"\n",
    "    arrs = a.split()\n",
    "    if len(arrs) >= 3 and arrs[0] == \"中国大陆\":\n",
    "        province = arrs[1] + \"省\"\n",
    "        city = removeChars(arrs[2])\n",
    "        if province in province_to_realname:\n",
    "            province = province_to_realname[province]\n",
    "        \n",
    "        if not city.endswith(\"市\") and not city.endswith(\"区\") and not city.endswith(\"县\"):\n",
    "            city  += \"市\"\n",
    "    else:\n",
    "        for prefix,province_str in prefix_to_province:\n",
    "            if a.startswith(prefix):\n",
    "                province = province_str\n",
    "    if province == city:\n",
    "        city = \"默认\"\n",
    "    return province,city\n",
    "\n",
    "city_convert_map = {\n",
    "    \"云南省\" : [\"昆明\",\"昭通\", \"曲靖\",\"玉溪\", \"怒江\", \"大理\", \"楚雄彝族自治\", \"德宏\", \"文山\",\"文红河\", \"西双版纳\", \"迪庆藏族\",\"红河哈尼族\"],\n",
    "    \"内蒙古自治区\" : [\"乌兰察\", \"呼伦贝\", \"呼和浩\", \"巴彦淖\", \"鄂尔多\", \"锡林郭\", \"阿拉善\",\"兴安盟\"],\n",
    "    \"吉林省\" : [\"延边\"],\n",
    "    \"四川省\" : [\"凉山彝族自治\", \"阿坝藏族羌族\"],\n",
    "    \"宁夏回族自治区\" :  [\"中卫\", \"吴忠\", \"固原\", \"石嘴\", \"银川\"],\n",
    "    \"广西壮族自治区\": {\n",
    "        \"柳州\" : \"柳州市\",\n",
    "        \"梧州\" : \"梧州市\",\n",
    "        \"贺州\" : \"贺州市\",\n",
    "        \"钦州\" : \"钦州市\",\n",
    "        \"防城市\" : \"防城港市\"\n",
    "    },\n",
    "    \"新疆维吾尔自治区\": {\n",
    "        \"乌市\": \"乌鲁木齐市\",\n",
    "        \"乌鲁市\": \"乌鲁木齐市\",\n",
    "        \"吐市\": \"吐鲁番市\",\n",
    "        \"吐鲁市\" : \"吐鲁番市\",\n",
    "        \"喀市\" : \"喀什市\",\n",
    "        \"伊市\" : \"伊宁市\"\n",
    "    },\n",
    "    \"湖北省\": {\n",
    "       \"恩施土家族苗市\" :  \"恩施市\",\n",
    "        \"恩施土家族苗族市\" : \"恩施市\"\n",
    "    },\n",
    "    \"湖南省\": {\n",
    "         \"湘西土家族苗市\" : \"湘西市\",\n",
    "        \"湘西土家族苗族市\" : \"湘西市\"\n",
    "    },\n",
    "    \"甘肃省\": {\n",
    "        \"临夏回族自治州市\" : \"临夏回族自治州\",\n",
    "        \"临夏回族自治市\" : \"临夏回族自治州\",\n",
    "        \"甘南藏族自治州市\" : \"甘南藏族自治州\",\n",
    "        \"甘南藏族自治市\" : \"甘南藏族自治州\"\n",
    "    },\n",
    "    \"西藏自治区\": {\n",
    "        \"昌都市\" : \"昌都地区\"\n",
    "    },\n",
    "    \"贵州省\": {\n",
    "        \"毕节地区毕节市\" : \"毕节市\",\n",
    "        \"毕节地区\" : \"毕节市\",\n",
    "        \"铜仁地区铜仁市\": \"铜仁市\",\n",
    "        \"铜仁地区\" : \"铜仁市\",\n",
    "        \"黔东南苗族侗市\": \"黔东南苗族侗族市\",\n",
    "        \"黔南布依族苗市\": \"黔南布依族苗族市\",\n",
    "        \"黔西南布依族市\": \"黔西南布依族苗族市\",\n",
    "        \"黔西南布依族苗市\": \"黔西南布依族苗族市\",\n",
    "    },\n",
    "    \n",
    "    \"重庆市\": {\n",
    "        \"水苗族土家市\" : \"水苗族土家族自治县\",\n",
    "        \"秀山土家族苗市\": \"秀山土家族苗自治县\",\n",
    "        \"酉阳土家族苗族市\": \"酉阳土家族苗族自治县\"\n",
    "    },\n",
    "    \n",
    "    \"黑龙江省\" : [\"大兴安岭\"]\n",
    "    \n",
    "}\n",
    "\n",
    "def convertCity(province, city):\n",
    "    if city == None:\n",
    "        return city\n",
    "    city_obj = []\n",
    "    if province in city_convert_map:\n",
    "        city_obj = city_convert_map[province]\n",
    "        if type(city_obj) is list:\n",
    "            for e in city_obj:\n",
    "                if city.startswith(e):\n",
    "                    return e\n",
    "        if type(city_obj) is dict:\n",
    "            if city in city_obj:\n",
    "                return city_obj[city]\n",
    "    return city\n",
    "\n",
    "def splitAddress(a):\n",
    "    try:\n",
    "        province,city = handleSpecial(a)\n",
    "        if province != None:\n",
    "            city = convertCity(province,city)\n",
    "            return Series({\"Province\": province, \"City\":city})\n",
    "        a = removeChars(a)\n",
    "        province = getProvince(a)\n",
    "        b = a[len(province):]\n",
    "        city = getCity(b)\n",
    "        city = convertCity(province,city)\n",
    "        if city == province:\n",
    "            city = \"默认\"\n",
    "        return Series({\"Province\": province, \"City\":city})\n",
    "    except Exception as e:\n",
    "        return Series({\"Province\" : None, \"City\":None})\n",
    "    "
   ]
  },
  {
   "cell_type": "code",
   "execution_count": 10,
   "metadata": {
    "collapsed": false
   },
   "outputs": [],
   "source": [
    "areas = data.Address.apply(splitAddress)\n",
    "data[\"Province\"] = areas.Province\n",
    "data[\"City\"] = areas.City"
   ]
  },
  {
   "cell_type": "code",
   "execution_count": 14,
   "metadata": {
    "collapsed": false
   },
   "outputs": [
    {
     "data": {
      "text/plain": [
       "0.00063425904951751007"
      ]
     },
     "execution_count": 14,
     "metadata": {},
     "output_type": "execute_result"
    }
   ],
   "source": [
    "## 省份为空的比例\n",
    "sum(data.Province.isnull())*1.0/len(data.Province)"
   ]
  },
  {
   "cell_type": "code",
   "execution_count": 15,
   "metadata": {
    "collapsed": false
   },
   "outputs": [
    {
     "data": {
      "text/plain": [
       "0.00067956326734018937"
      ]
     },
     "execution_count": 15,
     "metadata": {},
     "output_type": "execute_result"
    }
   ],
   "source": [
    "###省份为空的比例\n",
    "not_null_provinces = data[data.notnull()][[\"Province\", \"City\"]]\n",
    "sum((not_null_provinces.City == \"默认\"))*1.0/len(not_null_provinces)"
   ]
  },
  {
   "cell_type": "code",
   "execution_count": 16,
   "metadata": {
    "collapsed": false
   },
   "outputs": [
    {
     "data": {
      "text/plain": [
       "<matplotlib.axes._subplots.AxesSubplot at 0x11ce13490>"
      ]
     },
     "execution_count": 16,
     "metadata": {},
     "output_type": "execute_result"
    },
    {
     "data": {
      "image/png": "[encoded data removed]",
      "text/plain": [
       "<matplotlib.figure.Figure at 0x11ce24850>"
      ]
     },
     "metadata": {},
     "output_type": "display_data"
    }
   ],
   "source": [
    "### 省->订单数量\n",
    "province_2_order_nums = data.Province.value_counts()\n",
    "province_2_order_nums.plot(kind='bar')"
   ]
  },
  {
   "cell_type": "code",
   "execution_count": 31,
   "metadata": {
    "collapsed": false
   },
   "outputs": [
    {
     "data": {
      "text/plain": [
       "<matplotlib.axes._subplots.AxesSubplot at 0x119964b10>"
      ]
     },
     "execution_count": 31,
     "metadata": {},
     "output_type": "execute_result"
    },
    {
     "data": {
      "image/png": "[encoded data removed]",
      "text/plain": [
       "<matplotlib.figure.Figure at 0x119930050>"
      ]
     },
     "metadata": {},
     "output_type": "display_data"
    }
   ],
   "source": [
    "### 查看每个省的订单总额\n",
    "### todo:如何调整plot的宽度设置?\n",
    "price_grouped_by_province  = data['Price'].groupby(data['Province'])\n",
    "price_grouped_by_province.sum().sort_values(ascending=False).plot(kind='bar')"
   ]
  },
  {
   "cell_type": "code",
   "execution_count": 18,
   "metadata": {
    "collapsed": false
   },
   "outputs": [
    {
     "data": {
      "text/plain": [
       "<matplotlib.axes._subplots.AxesSubplot at 0x11c6ebf10>"
      ]
     },
     "execution_count": 18,
     "metadata": {},
     "output_type": "execute_result"
    },
    {
     "data": {
      "image/png": "[encoded data removed]",
      "text/plain": [
       "<matplotlib.figure.Figure at 0x11c6b75d0>"
      ]
     },
     "metadata": {},
     "output_type": "display_data"
    }
   ],
   "source": [
    "### province -> Category\n",
    "category_grouped_by_province = data['Category'].groupby(data['Province'])\n",
    "province_2_uniq_categories = category_grouped_by_province.apply(lambda a: len(a.unique()))\n",
    "province_2_uniq_categories.plot(kind='bar')"
   ]
  },
  {
   "cell_type": "code",
   "execution_count": 64,
   "metadata": {
    "collapsed": false
   },
   "outputs": [],
   "source": [
    "a = data.Category.value_counts()"
   ]
  },
  {
   "cell_type": "code",
   "execution_count": 73,
   "metadata": {
    "collapsed": true
   },
   "outputs": [],
   "source": [
    "grouped = data.groupby(\"Province\")"
   ]
  },
  {
   "cell_type": "code",
   "execution_count": 120,
   "metadata": {
    "collapsed": false
   },
   "outputs": [
    {
     "data": {
      "text/html": [
       "<div>\n",
       "<table border=\"1\" class=\"dataframe\">\n",
       "  <thead>\n",
       "    <tr style=\"text-align: right;\">\n",
       "      <th></th>\n",
       "      <th>mean</th>\n",
       "      <th>max</th>\n",
       "      <th>min</th>\n",
       "      <th>count</th>\n",
       "    </tr>\n",
       "    <tr>\n",
       "      <th>Province</th>\n",
       "      <th></th>\n",
       "      <th></th>\n",
       "      <th></th>\n",
       "      <th></th>\n",
       "    </tr>\n",
       "  </thead>\n",
       "  <tbody>\n",
       "    <tr>\n",
       "      <th>上海市</th>\n",
       "      <td>173.398241</td>\n",
       "      <td>22869.0</td>\n",
       "      <td>29.0</td>\n",
       "      <td>796</td>\n",
       "    </tr>\n",
       "    <tr>\n",
       "      <th>云南省</th>\n",
       "      <td>114.275824</td>\n",
       "      <td>2475.0</td>\n",
       "      <td>29.0</td>\n",
       "      <td>1820</td>\n",
       "    </tr>\n",
       "    <tr>\n",
       "      <th>内蒙古自治区</th>\n",
       "      <td>144.857651</td>\n",
       "      <td>11484.0</td>\n",
       "      <td>29.0</td>\n",
       "      <td>562</td>\n",
       "    </tr>\n",
       "    <tr>\n",
       "      <th>北京市</th>\n",
       "      <td>120.932522</td>\n",
       "      <td>594.0</td>\n",
       "      <td>29.0</td>\n",
       "      <td>904</td>\n",
       "    </tr>\n",
       "    <tr>\n",
       "      <th>吉林省</th>\n",
       "      <td>122.416933</td>\n",
       "      <td>3663.0</td>\n",
       "      <td>29.0</td>\n",
       "      <td>626</td>\n",
       "    </tr>\n",
       "    <tr>\n",
       "      <th>四川省</th>\n",
       "      <td>140.966142</td>\n",
       "      <td>38610.0</td>\n",
       "      <td>29.0</td>\n",
       "      <td>3367</td>\n",
       "    </tr>\n",
       "    <tr>\n",
       "      <th>天津市</th>\n",
       "      <td>128.732558</td>\n",
       "      <td>398.0</td>\n",
       "      <td>39.0</td>\n",
       "      <td>258</td>\n",
       "    </tr>\n",
       "    <tr>\n",
       "      <th>宁夏回族自治区</th>\n",
       "      <td>120.787425</td>\n",
       "      <td>398.0</td>\n",
       "      <td>39.0</td>\n",
       "      <td>334</td>\n",
       "    </tr>\n",
       "    <tr>\n",
       "      <th>安徽省</th>\n",
       "      <td>138.359903</td>\n",
       "      <td>19998.0</td>\n",
       "      <td>29.0</td>\n",
       "      <td>1242</td>\n",
       "    </tr>\n",
       "    <tr>\n",
       "      <th>山东省</th>\n",
       "      <td>122.278523</td>\n",
       "      <td>11088.0</td>\n",
       "      <td>29.0</td>\n",
       "      <td>2682</td>\n",
       "    </tr>\n",
       "    <tr>\n",
       "      <th>山西省</th>\n",
       "      <td>113.773991</td>\n",
       "      <td>2277.0</td>\n",
       "      <td>0.0</td>\n",
       "      <td>1115</td>\n",
       "    </tr>\n",
       "    <tr>\n",
       "      <th>广东省</th>\n",
       "      <td>112.465145</td>\n",
       "      <td>891.0</td>\n",
       "      <td>29.0</td>\n",
       "      <td>4117</td>\n",
       "    </tr>\n",
       "    <tr>\n",
       "      <th>广西壮族自治区</th>\n",
       "      <td>109.389010</td>\n",
       "      <td>891.0</td>\n",
       "      <td>0.0</td>\n",
       "      <td>1838</td>\n",
       "    </tr>\n",
       "    <tr>\n",
       "      <th>新疆维吾尔自治区</th>\n",
       "      <td>171.528785</td>\n",
       "      <td>19800.0</td>\n",
       "      <td>39.0</td>\n",
       "      <td>469</td>\n",
       "    </tr>\n",
       "    <tr>\n",
       "      <th>江苏省</th>\n",
       "      <td>125.004098</td>\n",
       "      <td>6732.0</td>\n",
       "      <td>29.0</td>\n",
       "      <td>2440</td>\n",
       "    </tr>\n",
       "    <tr>\n",
       "      <th>江西省</th>\n",
       "      <td>119.097132</td>\n",
       "      <td>398.0</td>\n",
       "      <td>29.0</td>\n",
       "      <td>1081</td>\n",
       "    </tr>\n",
       "    <tr>\n",
       "      <th>河北省</th>\n",
       "      <td>123.768340</td>\n",
       "      <td>7029.0</td>\n",
       "      <td>29.0</td>\n",
       "      <td>2072</td>\n",
       "    </tr>\n",
       "    <tr>\n",
       "      <th>河南省</th>\n",
       "      <td>115.818353</td>\n",
       "      <td>3069.0</td>\n",
       "      <td>29.0</td>\n",
       "      <td>2648</td>\n",
       "    </tr>\n",
       "    <tr>\n",
       "      <th>浙江省</th>\n",
       "      <td>117.584768</td>\n",
       "      <td>4851.0</td>\n",
       "      <td>29.0</td>\n",
       "      <td>2613</td>\n",
       "    </tr>\n",
       "    <tr>\n",
       "      <th>海南省</th>\n",
       "      <td>112.523585</td>\n",
       "      <td>398.0</td>\n",
       "      <td>29.0</td>\n",
       "      <td>212</td>\n",
       "    </tr>\n",
       "    <tr>\n",
       "      <th>湖北省</th>\n",
       "      <td>117.144164</td>\n",
       "      <td>792.0</td>\n",
       "      <td>29.0</td>\n",
       "      <td>1859</td>\n",
       "    </tr>\n",
       "    <tr>\n",
       "      <th>湖南省</th>\n",
       "      <td>120.770419</td>\n",
       "      <td>2970.0</td>\n",
       "      <td>29.0</td>\n",
       "      <td>2265</td>\n",
       "    </tr>\n",
       "    <tr>\n",
       "      <th>甘肃省</th>\n",
       "      <td>110.854839</td>\n",
       "      <td>693.0</td>\n",
       "      <td>29.0</td>\n",
       "      <td>1116</td>\n",
       "    </tr>\n",
       "    <tr>\n",
       "      <th>福建省</th>\n",
       "      <td>112.592280</td>\n",
       "      <td>398.0</td>\n",
       "      <td>29.0</td>\n",
       "      <td>829</td>\n",
       "    </tr>\n",
       "    <tr>\n",
       "      <th>西藏自治区</th>\n",
       "      <td>166.783217</td>\n",
       "      <td>474.0</td>\n",
       "      <td>39.0</td>\n",
       "      <td>143</td>\n",
       "    </tr>\n",
       "    <tr>\n",
       "      <th>贵州省</th>\n",
       "      <td>120.049180</td>\n",
       "      <td>4950.0</td>\n",
       "      <td>29.0</td>\n",
       "      <td>2074</td>\n",
       "    </tr>\n",
       "    <tr>\n",
       "      <th>辽宁省</th>\n",
       "      <td>128.025381</td>\n",
       "      <td>11385.0</td>\n",
       "      <td>29.0</td>\n",
       "      <td>985</td>\n",
       "    </tr>\n",
       "    <tr>\n",
       "      <th>重庆市</th>\n",
       "      <td>121.681777</td>\n",
       "      <td>891.0</td>\n",
       "      <td>29.0</td>\n",
       "      <td>1103</td>\n",
       "    </tr>\n",
       "    <tr>\n",
       "      <th>陕西省</th>\n",
       "      <td>114.119858</td>\n",
       "      <td>2277.0</td>\n",
       "      <td>29.0</td>\n",
       "      <td>1410</td>\n",
       "    </tr>\n",
       "    <tr>\n",
       "      <th>青海省</th>\n",
       "      <td>127.120690</td>\n",
       "      <td>398.0</td>\n",
       "      <td>49.0</td>\n",
       "      <td>116</td>\n",
       "    </tr>\n",
       "    <tr>\n",
       "      <th>黑龙江省</th>\n",
       "      <td>142.907723</td>\n",
       "      <td>23364.0</td>\n",
       "      <td>29.0</td>\n",
       "      <td>997</td>\n",
       "    </tr>\n",
       "  </tbody>\n",
       "</table>\n",
       "</div>"
      ],
      "text/plain": [
       "                mean      max   min  count\n",
       "Province                                  \n",
       "上海市       173.398241  22869.0  29.0    796\n",
       "云南省       114.275824   2475.0  29.0   1820\n",
       "内蒙古自治区    144.857651  11484.0  29.0    562\n",
       "北京市       120.932522    594.0  29.0    904\n",
       "吉林省       122.416933   3663.0  29.0    626\n",
       "四川省       140.966142  38610.0  29.0   3367\n",
       "天津市       128.732558    398.0  39.0    258\n",
       "宁夏回族自治区   120.787425    398.0  39.0    334\n",
       "安徽省       138.359903  19998.0  29.0   1242\n",
       "山东省       122.278523  11088.0  29.0   2682\n",
       "山西省       113.773991   2277.0   0.0   1115\n",
       "广东省       112.465145    891.0  29.0   4117\n",
       "广西壮族自治区   109.389010    891.0   0.0   1838\n",
       "新疆维吾尔自治区  171.528785  19800.0  39.0    469\n",
       "江苏省       125.004098   6732.0  29.0   2440\n",
       "江西省       119.097132    398.0  29.0   1081\n",
       "河北省       123.768340   7029.0  29.0   2072\n",
       "河南省       115.818353   3069.0  29.0   2648\n",
       "浙江省       117.584768   4851.0  29.0   2613\n",
       "海南省       112.523585    398.0  29.0    212\n",
       "湖北省       117.144164    792.0  29.0   1859\n",
       "湖南省       120.770419   2970.0  29.0   2265\n",
       "甘肃省       110.854839    693.0  29.0   1116\n",
       "福建省       112.592280    398.0  29.0    829\n",
       "西藏自治区     166.783217    474.0  39.0    143\n",
       "贵州省       120.049180   4950.0  29.0   2074\n",
       "辽宁省       128.025381  11385.0  29.0    985\n",
       "重庆市       121.681777    891.0  29.0   1103\n",
       "陕西省       114.119858   2277.0  29.0   1410\n",
       "青海省       127.120690    398.0  49.0    116\n",
       "黑龙江省      142.907723  23364.0  29.0    997"
      ]
     },
     "execution_count": 120,
     "metadata": {},
     "output_type": "execute_result"
    }
   ],
   "source": [
    "# 每个省的产品数量\n",
    "# 每个省的数量最多的产品\n",
    "# 每个省的价格最多的产品\n",
    "# 每个省的产品均值\n",
    "grouped[\"Price\"].agg(['mean','max','min','count'])"
   ]
  },
  {
   "cell_type": "code",
   "execution_count": 121,
   "metadata": {
    "collapsed": false
   },
   "outputs": [
    {
     "data": {
      "text/plain": [
       "<matplotlib.axes._subplots.AxesSubplot at 0x11b28e650>"
      ]
     },
     "execution_count": 121,
     "metadata": {},
     "output_type": "execute_result"
    },
    {
     "data": {
      "image/png": "[encoded data removed]",
      "text/plain": [
       "<matplotlib.figure.Figure at 0x11b25a290>"
      ]
     },
     "metadata": {},
     "output_type": "display_data"
    }
   ],
   "source": [
    "##省份->渠道汇总\n",
    "grouped[\"Channel\"].apply(lambda arr: len(arr.unique())).plot(kind='bar')"
   ]
  },
  {
   "cell_type": "code",
   "execution_count": 80,
   "metadata": {
    "collapsed": true
   },
   "outputs": [],
   "source": [
    "grouped_product = data.groupby(\"Category\")"
   ]
  },
  {
   "cell_type": "code",
   "execution_count": 85,
   "metadata": {
    "collapsed": false
   },
   "outputs": [
    {
     "data": {
      "text/plain": [
       "<matplotlib.axes._subplots.AxesSubplot at 0x117f77a10>"
      ]
     },
     "execution_count": 85,
     "metadata": {},
     "output_type": "execute_result"
    },
    {
     "data": {
      "image/png": "[encoded data removed]",
      "text/plain": [
       "<matplotlib.figure.Figure at 0x117f77090>"
      ]
     },
     "metadata": {},
     "output_type": "display_data"
    }
   ],
   "source": [
    "#产品->价格\n",
    "grouped_product[\"Price\"].count().plot(kind=\"bar\")"
   ]
  },
  {
   "cell_type": "code",
   "execution_count": 86,
   "metadata": {
    "collapsed": false
   },
   "outputs": [
    {
     "data": {
      "text/plain": [
       "<matplotlib.axes._subplots.AxesSubplot at 0x11d433cd0>"
      ]
     },
     "execution_count": 86,
     "metadata": {},
     "output_type": "execute_result"
    },
    {
     "data": {
      "image/png": "[encoded data removed]",
      "text/plain": [
       "<matplotlib.figure.Figure at 0x11d400410>"
      ]
     },
     "metadata": {},
     "output_type": "display_data"
    }
   ],
   "source": [
    "grouped_product[\"Price\"].sum().plot(kind=\"bar\")"
   ]
  },
  {
   "cell_type": "code",
   "execution_count": 89,
   "metadata": {
    "collapsed": false
   },
   "outputs": [
    {
     "data": {
      "text/plain": [
       "<matplotlib.axes._subplots.AxesSubplot at 0x11d0bc650>"
      ]
     },
     "execution_count": 89,
     "metadata": {},
     "output_type": "execute_result"
    },
    {
     "data": {
      "image/png": "[encoded data removed]",
      "text/plain": [
       "<matplotlib.figure.Figure at 0x11cbd8310>"
      ]
     },
     "metadata": {},
     "output_type": "display_data"
    }
   ],
   "source": [
    "grouped_product[\"Province\"].apply(lambda x:len(x.unique())).plot(kind='bar')"
   ]
  },
  {
   "cell_type": "code",
   "execution_count": 103,
   "metadata": {
    "collapsed": false
   },
   "outputs": [],
   "source": [
    "data[\"Hour\"] = data.OrderTime.apply(lambda d:int(d.split(\":\")[0]))"
   ]
  },
  {
   "cell_type": "code",
   "execution_count": 104,
   "metadata": {
    "collapsed": false
   },
   "outputs": [],
   "source": [
    "## 根据时间进行汇聚\n",
    "group_by_ordertime = data.groupby(\"Hour\")"
   ]
  },
  {
   "cell_type": "code",
   "execution_count": 106,
   "metadata": {
    "collapsed": false
   },
   "outputs": [
    {
     "data": {
      "text/plain": [
       "<matplotlib.axes._subplots.AxesSubplot at 0x11be723d0>"
      ]
     },
     "execution_count": 106,
     "metadata": {},
     "output_type": "execute_result"
    },
    {
     "data": {
      "image/png": "[encoded data removed]",
      "text/plain": [
       "<matplotlib.figure.Figure at 0x11be508d0>"
      ]
     },
     "metadata": {},
     "output_type": "display_data"
    }
   ],
   "source": [
    "group_by_ordertime[\"Price\"].count().sort_index().plot(kind='bar')"
   ]
  },
  {
   "cell_type": "code",
   "execution_count": 114,
   "metadata": {
    "collapsed": false
   },
   "outputs": [
    {
     "data": {
      "text/plain": [
       "Category  Hour\n",
       "雪地靴       9       465\n",
       "          10      468\n",
       "皮鞋01      8       468\n",
       "雪山冲锋衣     19      477\n",
       "皮鞋01      18      484\n",
       "雪地靴       8       489\n",
       "皮鞋01      7       491\n",
       "雪地靴       11      505\n",
       "          18      506\n",
       "          7       514\n",
       "          23      514\n",
       "雪山冲锋衣     21      529\n",
       "皮鞋01      19      565\n",
       "          22      591\n",
       "雪地靴       22      621\n",
       "          19      648\n",
       "皮鞋01      20      686\n",
       "          21      693\n",
       "雪地靴       20      722\n",
       "          21      748\n",
       "Name: Price, dtype: int64"
      ]
     },
     "execution_count": 114,
     "metadata": {},
     "output_type": "execute_result"
    }
   ],
   "source": [
    "data.groupby([\"Category\",\"Hour\"])[\"Price\"].count().sort_values().tail(20)"
   ]
  },
  {
   "cell_type": "code",
   "execution_count": 115,
   "metadata": {
    "collapsed": false
   },
   "outputs": [
    {
     "data": {
      "text/plain": [
       "Province  City     \n",
       "四川省       成都市          884\n",
       "广东省       深圳市          782\n",
       "          广州市          780\n",
       "          东莞市          513\n",
       "浙江省       杭州市          481\n",
       "贵州省       贵阳市          469\n",
       "江苏省       苏州市          444\n",
       "陕西省       西安市          430\n",
       "广东省       佛山市          421\n",
       "浙江省       宁波市          399\n",
       "贵州省       遵义市          396\n",
       "河南省       郑州市          382\n",
       "湖北省       武汉市          375\n",
       "湖南省       长沙市          359\n",
       "云南省       昆明           344\n",
       "浙江省       金华市          343\n",
       "河北省       石家庄市         339\n",
       "广西壮族自治区   南宁市          338\n",
       "山东省       潍坊市          332\n",
       "浙江省       温州市          327\n",
       "山东省       烟台市          307\n",
       "          青岛市          306\n",
       "贵州省       毕节市          298\n",
       "河北省       保定市          296\n",
       "云南省       昭通           270\n",
       "河南省       南阳市          263\n",
       "江苏省       无锡市          262\n",
       "广东省       惠州市          254\n",
       "浙江省       台州市          252\n",
       "黑龙江省      哈尔滨市         250\n",
       "                      ... \n",
       "新疆维吾尔自治区  五家市            5\n",
       "青海省       海南藏族自治州        5\n",
       "西藏自治区     那曲地区           5\n",
       "海南省       屯昌县            5\n",
       "          昌江黎族自治县        5\n",
       "重庆市       双桥区            4\n",
       "海南省       保亭黎族苗族自治县      4\n",
       "西藏自治区     阿里地区           4\n",
       "吉林省       默认             4\n",
       "天津市       红桥区            4\n",
       "青海省       玉树藏族自治州        4\n",
       "湖北省       默认             3\n",
       "海南省       白沙黎族自治县        3\n",
       "北京市       崇文区            3\n",
       "安徽省       默认             2\n",
       "浙江省       温岭市            2\n",
       "海南省       琼中黎族苗族自治县      2\n",
       "新疆维吾尔自治区  图木市            2\n",
       "上海市       卢湾区            2\n",
       "湖北省       神农架林区          2\n",
       "四川省       海口市            1\n",
       "海南省       五指山市           1\n",
       "贵州省       那曲地区           1\n",
       "湖北省       通城县            1\n",
       "四川省       默认             1\n",
       "江苏省       默认             1\n",
       "陕西省       靖边县            1\n",
       "青海省       果洛藏族自治州        1\n",
       "          黄南藏族自治州        1\n",
       "广东省       普宁市            1\n",
       "Name: Price, dtype: int64"
      ]
     },
     "execution_count": 115,
     "metadata": {},
     "output_type": "execute_result"
    }
   ],
   "source": [
    "data.groupby([\"Province\",\"City\"])[\"Price\"].count().sort_values(ascending=False)\n",
    "\n"
   ]
  },
  {
   "cell_type": "code",
   "execution_count": 119,
   "metadata": {
    "collapsed": false
   },
   "outputs": [
    {
     "data": {
      "text/plain": [
       "E时代蓝牙手表       48\n",
       "剃须刀          585\n",
       "口红            32\n",
       "商务皮鞋        1035\n",
       "商务钱包          35\n",
       "成人用品          65\n",
       "普洱茶           18\n",
       "椰子休闲鞋       4560\n",
       "椰子鞋01         32\n",
       "椰子鞋1        2575\n",
       "灵童剃须刀       1876\n",
       "炫酷太阳镜        225\n",
       "登山鞋         1342\n",
       "皮带           472\n",
       "皮衣            22\n",
       "皮鞋01        9674\n",
       "真皮皮衣        2051\n",
       "石记加绒皮衣       507\n",
       "茶壶           403\n",
       "蓝牙手表         127\n",
       "钱包          1102\n",
       "雪地靴        10204\n",
       "雪山冲锋衣       6981\n",
       "非凡耳机           4\n",
       "飞鹿皮衣         171\n",
       "Name: Category, dtype: int64"
      ]
     },
     "execution_count": 119,
     "metadata": {},
     "output_type": "execute_result"
    }
   ],
   "source": [
    "data.Category.value_counts().sort_index()"
   ]
  },
  {
   "cell_type": "code",
   "execution_count": 122,
   "metadata": {
    "collapsed": true
   },
   "outputs": [],
   "source": [
    "# \n",
    "# 1. 地级市的详情，按照订单量，最大地级市、均值\n",
    "#  2. 位置和订单量\n",
    "#  3. 订单下单日期\n",
    "#  4. 价格区间和省份，以及总的分布\n",
    "#"
   ]
  },
  {
   "cell_type": "code",
   "execution_count": 21,
   "metadata": {
    "collapsed": true
   },
   "outputs": [],
   "source": [
    "#备份数据\n",
    "data_copy = data.copy()\n",
    "#建立时间索引\n",
    "data.index = pd.to_datetime(data.OrderDate + \" \" + data.OrderTime)"
   ]
  },
  {
   "cell_type": "code",
   "execution_count": 22,
   "metadata": {
    "collapsed": false
   },
   "outputs": [],
   "source": [
    "# 下单日期和订单量的分布\n",
    "### todo:坐标轴的时间范围如何调整\n",
    "dayOfOrderNumber = data.OrderNum.resample('D').count()"
   ]
  },
  {
   "cell_type": "code",
   "execution_count": 23,
   "metadata": {
    "collapsed": false
   },
   "outputs": [
    {
     "data": {
      "text/plain": [
       "<matplotlib.axes._subplots.AxesSubplot at 0x11b68f710>"
      ]
     },
     "execution_count": 23,
     "metadata": {},
     "output_type": "execute_result"
    },
    {
     "data": {
      "image/png": "[encoded data removed]",
      "text/plain": [
       "<matplotlib.figure.Figure at 0x11b6a1dd0>"
      ]
     },
     "metadata": {},
     "output_type": "display_data"
    }
   ],
   "source": [
    "dayOfOrderNumber.plot(use_index=True)"
   ]
  },
  {
   "cell_type": "code",
   "execution_count": 24,
   "metadata": {
    "collapsed": false
   },
   "outputs": [],
   "source": [
    "write_excel(dayOfOrderNumber.reset_index(), \"下单日期_订单量\")"
   ]
  },
  {
   "cell_type": "code",
   "execution_count": 25,
   "metadata": {
    "collapsed": false
   },
   "outputs": [
    {
     "data": {
      "text/plain": [
       "<matplotlib.axes._subplots.AxesSubplot at 0x11b0bc3d0>"
      ]
     },
     "execution_count": 25,
     "metadata": {},
     "output_type": "execute_result"
    },
    {
     "data": {
      "image/png": "[encoded data removed]",
      "text/plain": [
       "<matplotlib.figure.Figure at 0x11b196790>"
      ]
     },
     "metadata": {},
     "output_type": "display_data"
    }
   ],
   "source": [
    "## 位置和订单量的关系\n",
    "channel2ordernums = data.groupby(\"Channel\")[\"OrderNum\"].count()\n",
    "channel2ordernums.plot(kind='bar')"
   ]
  },
  {
   "cell_type": "code",
   "execution_count": 27,
   "metadata": {
    "collapsed": false
   },
   "outputs": [],
   "source": [
    "write_excel(channel2ordernums.reset_index(),\"位置_订单量\")"
   ]
  },
  {
   "cell_type": "code",
   "execution_count": 28,
   "metadata": {
    "collapsed": false
   },
   "outputs": [],
   "source": [
    "# 价格区间和订单数量的分布\n",
    "bins = [0,100,200,500,1000,2000,5000,10000,np.inf]\n",
    "bin_names =[\"[0,100)\",\"[100,200)\", \"[200,500)\",\"[500,1000)\", \"[1000,2000)\",\"[2000,5000)\",\"[5000,10000)\",\"10000以上\"]\n",
    "price_range_dist = pd.cut(data.Price, bins, labels=bin_names,right=False)"
   ]
  },
  {
   "cell_type": "code",
   "execution_count": 29,
   "metadata": {
    "collapsed": false
   },
   "outputs": [],
   "source": [
    "price_range_of_ordernum = data.OrderNum.groupby(price_range_dist).count()"
   ]
  },
  {
   "cell_type": "code",
   "execution_count": 30,
   "metadata": {
    "collapsed": false
   },
   "outputs": [],
   "source": [
    "write_excel(price_range_of_ordernum.reset_index(),\"价格区间_订单量\")"
   ]
  },
  {
   "cell_type": "code",
   "execution_count": 31,
   "metadata": {
    "collapsed": false
   },
   "outputs": [
    {
     "data": {
      "text/plain": [
       "<matplotlib.axes._subplots.AxesSubplot at 0x11ab55390>"
      ]
     },
     "execution_count": 31,
     "metadata": {},
     "output_type": "execute_result"
    },
    {
     "data": {
      "image/png": "[encoded data removed]",
      "text/plain": [
       "<matplotlib.figure.Figure at 0x11b64a910>"
      ]
     },
     "metadata": {},
     "output_type": "display_data"
    }
   ],
   "source": [
    "price_range_of_ordernum.plot(kind='bar')"
   ]
  },
  {
   "cell_type": "code",
   "execution_count": 32,
   "metadata": {
    "collapsed": false
   },
   "outputs": [],
   "source": [
    "## 价格区间和省份、城市的联系\n",
    "price_range_and_city_of_ordernum = data.groupby([price_range_dist,\"Province\",\"City\"])[\"OrderNum\"].count()"
   ]
  },
  {
   "cell_type": "code",
   "execution_count": 34,
   "metadata": {
    "collapsed": false
   },
   "outputs": [],
   "source": [
    "write_excel(price_range_and_city_of_ordernum.reset_index(),\"价格区间_省份_城市_订单量\")"
   ]
  },
  {
   "cell_type": "code",
   "execution_count": null,
   "metadata": {
    "collapsed": true
   },
   "outputs": [],
   "source": []
  },
  {
   "cell_type": "code",
   "execution_count": 35,
   "metadata": {
    "collapsed": true
   },
   "outputs": [],
   "source": [
    "def sort_by_city(arr):\n",
    "    return arr.groupby(\"City\")[\"OrderNum\"].count().sort_values(ascending=False)"
   ]
  },
  {
   "cell_type": "code",
   "execution_count": 36,
   "metadata": {
    "collapsed": false
   },
   "outputs": [],
   "source": [
    "## 根据省份，对每个市的订单数量进行统计，从大到小排序\n",
    "order_num_by_province_city = data.groupby(\"Province\").apply(sort_by_city)"
   ]
  },
  {
   "cell_type": "code",
   "execution_count": 37,
   "metadata": {
    "collapsed": false
   },
   "outputs": [],
   "source": [
    "write_excel(order_num_by_province_city.reset_index(),\"省份_城市_订单量\")"
   ]
  },
  {
   "cell_type": "code",
   "execution_count": 38,
   "metadata": {
    "collapsed": false
   },
   "outputs": [],
   "source": [
    "## 每个省订单量最大的城市以及订单数量\n",
    "def province_get_details(arr):\n",
    "    order_grouped_by_city = arr.groupby(\"City\")\n",
    "    \n",
    "    order_counts = order_grouped_by_city[\"OrderNum\"].count()\n",
    "    max_city = order_counts.idxmax()\n",
    "    max_cnt = order_counts[max_city]\n",
    "    \n",
    "    min_city = order_counts.idxmin()\n",
    "    min_cnt = order_counts[min_city]\n",
    "    \n",
    "    mean = order_counts.mean()\n",
    "    #return Series({\"订单量最大城市\":max_city, \"最大订单量\":max_cnt, \"订单量最小城市\": min_city, \"最小订单量\": min_cnt, \n",
    "    #               \"订单量平均值\": mean,\n",
    "    #              \"城市数量\": len(order_counts)})\n",
    "    return Series([max_city, max_cnt, min_city,min_cnt, mean,len(order_counts)],index = [\"订单量最大城市\",\"最大订单量\", \"订单量最小城市\", \"最小订单量\", \"订单量平均值\", \"城市数量\"])"
   ]
  },
  {
   "cell_type": "code",
   "execution_count": 44,
   "metadata": {
    "collapsed": false
   },
   "outputs": [],
   "source": [
    "province_city_details = data.groupby(\"Province\").apply(province_get_details)"
   ]
  },
  {
   "cell_type": "code",
   "execution_count": 45,
   "metadata": {
    "collapsed": false
   },
   "outputs": [],
   "source": [
    "write_excel(province_city_details.reset_index(), \"省份订单分布\")\n"
   ]
  },
  {
   "cell_type": "code",
   "execution_count": 46,
   "metadata": {
    "collapsed": false
   },
   "outputs": [],
   "source": [
    "## 按照二级标签进行汇总\n",
    "data[\"Area2\"] = data.Province + data.City"
   ]
  },
  {
   "cell_type": "code",
   "execution_count": 47,
   "metadata": {
    "collapsed": false
   },
   "outputs": [],
   "source": [
    "city_details = data.groupby(\"Area2\")[\"OrderNum\"].count().sort_values(ascending=False)\n",
    "write_excel(city_details.reset_index(), \"城市_订单数量\")"
   ]
  },
  {
   "cell_type": "code",
   "execution_count": 48,
   "metadata": {
    "collapsed": false
   },
   "outputs": [
    {
     "data": {
      "text/html": [
       "<div>\n",
       "<table border=\"1\" class=\"dataframe\">\n",
       "  <thead>\n",
       "    <tr style=\"text-align: right;\">\n",
       "      <th></th>\n",
       "      <th>Area2</th>\n",
       "      <th>OrderNum</th>\n",
       "    </tr>\n",
       "  </thead>\n",
       "  <tbody>\n",
       "    <tr>\n",
       "      <th>0</th>\n",
       "      <td>四川省成都市</td>\n",
       "      <td>885</td>\n",
       "    </tr>\n",
       "    <tr>\n",
       "      <th>1</th>\n",
       "      <td>广东省深圳市</td>\n",
       "      <td>783</td>\n",
       "    </tr>\n",
       "    <tr>\n",
       "      <th>2</th>\n",
       "      <td>广东省广州市</td>\n",
       "      <td>781</td>\n",
       "    </tr>\n",
       "    <tr>\n",
       "      <th>3</th>\n",
       "      <td>广东省东莞市</td>\n",
       "      <td>514</td>\n",
       "    </tr>\n",
       "    <tr>\n",
       "      <th>4</th>\n",
       "      <td>浙江省杭州市</td>\n",
       "      <td>481</td>\n",
       "    </tr>\n",
       "    <tr>\n",
       "      <th>5</th>\n",
       "      <td>贵州省贵阳市</td>\n",
       "      <td>469</td>\n",
       "    </tr>\n",
       "    <tr>\n",
       "      <th>6</th>\n",
       "      <td>江苏省苏州市</td>\n",
       "      <td>444</td>\n",
       "    </tr>\n",
       "    <tr>\n",
       "      <th>7</th>\n",
       "      <td>陕西省西安市</td>\n",
       "      <td>430</td>\n",
       "    </tr>\n",
       "    <tr>\n",
       "      <th>8</th>\n",
       "      <td>广东省佛山市</td>\n",
       "      <td>421</td>\n",
       "    </tr>\n",
       "    <tr>\n",
       "      <th>9</th>\n",
       "      <td>浙江省宁波市</td>\n",
       "      <td>399</td>\n",
       "    </tr>\n",
       "    <tr>\n",
       "      <th>10</th>\n",
       "      <td>贵州省遵义市</td>\n",
       "      <td>396</td>\n",
       "    </tr>\n",
       "    <tr>\n",
       "      <th>11</th>\n",
       "      <td>河南省郑州市</td>\n",
       "      <td>382</td>\n",
       "    </tr>\n",
       "    <tr>\n",
       "      <th>12</th>\n",
       "      <td>湖北省武汉市</td>\n",
       "      <td>375</td>\n",
       "    </tr>\n",
       "    <tr>\n",
       "      <th>13</th>\n",
       "      <td>湖南省长沙市</td>\n",
       "      <td>361</td>\n",
       "    </tr>\n",
       "    <tr>\n",
       "      <th>14</th>\n",
       "      <td>云南省昆明</td>\n",
       "      <td>344</td>\n",
       "    </tr>\n",
       "    <tr>\n",
       "      <th>15</th>\n",
       "      <td>浙江省金华市</td>\n",
       "      <td>343</td>\n",
       "    </tr>\n",
       "    <tr>\n",
       "      <th>16</th>\n",
       "      <td>河北省石家庄市</td>\n",
       "      <td>339</td>\n",
       "    </tr>\n",
       "    <tr>\n",
       "      <th>17</th>\n",
       "      <td>广西壮族自治区南宁市</td>\n",
       "      <td>338</td>\n",
       "    </tr>\n",
       "    <tr>\n",
       "      <th>18</th>\n",
       "      <td>山东省潍坊市</td>\n",
       "      <td>332</td>\n",
       "    </tr>\n",
       "    <tr>\n",
       "      <th>19</th>\n",
       "      <td>浙江省温州市</td>\n",
       "      <td>327</td>\n",
       "    </tr>\n",
       "    <tr>\n",
       "      <th>20</th>\n",
       "      <td>山东省烟台市</td>\n",
       "      <td>307</td>\n",
       "    </tr>\n",
       "    <tr>\n",
       "      <th>21</th>\n",
       "      <td>山东省青岛市</td>\n",
       "      <td>306</td>\n",
       "    </tr>\n",
       "    <tr>\n",
       "      <th>22</th>\n",
       "      <td>贵州省毕节市</td>\n",
       "      <td>298</td>\n",
       "    </tr>\n",
       "    <tr>\n",
       "      <th>23</th>\n",
       "      <td>河北省保定市</td>\n",
       "      <td>296</td>\n",
       "    </tr>\n",
       "    <tr>\n",
       "      <th>24</th>\n",
       "      <td>云南省昭通</td>\n",
       "      <td>270</td>\n",
       "    </tr>\n",
       "    <tr>\n",
       "      <th>25</th>\n",
       "      <td>河南省南阳市</td>\n",
       "      <td>263</td>\n",
       "    </tr>\n",
       "    <tr>\n",
       "      <th>26</th>\n",
       "      <td>江苏省无锡市</td>\n",
       "      <td>262</td>\n",
       "    </tr>\n",
       "    <tr>\n",
       "      <th>27</th>\n",
       "      <td>广东省惠州市</td>\n",
       "      <td>254</td>\n",
       "    </tr>\n",
       "    <tr>\n",
       "      <th>28</th>\n",
       "      <td>浙江省台州市</td>\n",
       "      <td>252</td>\n",
       "    </tr>\n",
       "    <tr>\n",
       "      <th>29</th>\n",
       "      <td>黑龙江省哈尔滨市</td>\n",
       "      <td>250</td>\n",
       "    </tr>\n",
       "    <tr>\n",
       "      <th>...</th>\n",
       "      <td>...</td>\n",
       "      <td>...</td>\n",
       "    </tr>\n",
       "    <tr>\n",
       "      <th>436</th>\n",
       "      <td>新疆维吾尔自治区克孜市</td>\n",
       "      <td>6</td>\n",
       "    </tr>\n",
       "    <tr>\n",
       "      <th>437</th>\n",
       "      <td>青海省海南藏族自治州</td>\n",
       "      <td>5</td>\n",
       "    </tr>\n",
       "    <tr>\n",
       "      <th>438</th>\n",
       "      <td>新疆维吾尔自治区五家市</td>\n",
       "      <td>5</td>\n",
       "    </tr>\n",
       "    <tr>\n",
       "      <th>439</th>\n",
       "      <td>海南省屯昌县</td>\n",
       "      <td>5</td>\n",
       "    </tr>\n",
       "    <tr>\n",
       "      <th>440</th>\n",
       "      <td>西藏自治区那曲地区</td>\n",
       "      <td>5</td>\n",
       "    </tr>\n",
       "    <tr>\n",
       "      <th>441</th>\n",
       "      <td>海南省昌江黎族自治县</td>\n",
       "      <td>5</td>\n",
       "    </tr>\n",
       "    <tr>\n",
       "      <th>442</th>\n",
       "      <td>重庆市双桥区</td>\n",
       "      <td>4</td>\n",
       "    </tr>\n",
       "    <tr>\n",
       "      <th>443</th>\n",
       "      <td>青海省玉树藏族自治州</td>\n",
       "      <td>4</td>\n",
       "    </tr>\n",
       "    <tr>\n",
       "      <th>444</th>\n",
       "      <td>天津市红桥区</td>\n",
       "      <td>4</td>\n",
       "    </tr>\n",
       "    <tr>\n",
       "      <th>445</th>\n",
       "      <td>海南省保亭黎族苗族自治县</td>\n",
       "      <td>4</td>\n",
       "    </tr>\n",
       "    <tr>\n",
       "      <th>446</th>\n",
       "      <td>吉林省默认</td>\n",
       "      <td>4</td>\n",
       "    </tr>\n",
       "    <tr>\n",
       "      <th>447</th>\n",
       "      <td>西藏自治区阿里地区</td>\n",
       "      <td>4</td>\n",
       "    </tr>\n",
       "    <tr>\n",
       "      <th>448</th>\n",
       "      <td>北京市崇文区</td>\n",
       "      <td>3</td>\n",
       "    </tr>\n",
       "    <tr>\n",
       "      <th>449</th>\n",
       "      <td>湖北省默认</td>\n",
       "      <td>3</td>\n",
       "    </tr>\n",
       "    <tr>\n",
       "      <th>450</th>\n",
       "      <td>海南省白沙黎族自治县</td>\n",
       "      <td>3</td>\n",
       "    </tr>\n",
       "    <tr>\n",
       "      <th>451</th>\n",
       "      <td>新疆维吾尔自治区图木市</td>\n",
       "      <td>2</td>\n",
       "    </tr>\n",
       "    <tr>\n",
       "      <th>452</th>\n",
       "      <td>上海市卢湾区</td>\n",
       "      <td>2</td>\n",
       "    </tr>\n",
       "    <tr>\n",
       "      <th>453</th>\n",
       "      <td>浙江省温岭市</td>\n",
       "      <td>2</td>\n",
       "    </tr>\n",
       "    <tr>\n",
       "      <th>454</th>\n",
       "      <td>海南省琼中黎族苗族自治县</td>\n",
       "      <td>2</td>\n",
       "    </tr>\n",
       "    <tr>\n",
       "      <th>455</th>\n",
       "      <td>湖北省神农架林区</td>\n",
       "      <td>2</td>\n",
       "    </tr>\n",
       "    <tr>\n",
       "      <th>456</th>\n",
       "      <td>安徽省默认</td>\n",
       "      <td>2</td>\n",
       "    </tr>\n",
       "    <tr>\n",
       "      <th>457</th>\n",
       "      <td>青海省果洛藏族自治州</td>\n",
       "      <td>1</td>\n",
       "    </tr>\n",
       "    <tr>\n",
       "      <th>458</th>\n",
       "      <td>湖北省通城县</td>\n",
       "      <td>1</td>\n",
       "    </tr>\n",
       "    <tr>\n",
       "      <th>459</th>\n",
       "      <td>贵州省那曲地区</td>\n",
       "      <td>1</td>\n",
       "    </tr>\n",
       "    <tr>\n",
       "      <th>460</th>\n",
       "      <td>海南省五指山市</td>\n",
       "      <td>1</td>\n",
       "    </tr>\n",
       "    <tr>\n",
       "      <th>461</th>\n",
       "      <td>陕西省靖边县</td>\n",
       "      <td>1</td>\n",
       "    </tr>\n",
       "    <tr>\n",
       "      <th>462</th>\n",
       "      <td>四川省默认</td>\n",
       "      <td>1</td>\n",
       "    </tr>\n",
       "    <tr>\n",
       "      <th>463</th>\n",
       "      <td>青海省黄南藏族自治州</td>\n",
       "      <td>1</td>\n",
       "    </tr>\n",
       "    <tr>\n",
       "      <th>464</th>\n",
       "      <td>江苏省默认</td>\n",
       "      <td>1</td>\n",
       "    </tr>\n",
       "    <tr>\n",
       "      <th>465</th>\n",
       "      <td>广东省普宁市</td>\n",
       "      <td>1</td>\n",
       "    </tr>\n",
       "  </tbody>\n",
       "</table>\n",
       "<p>466 rows × 2 columns</p>\n",
       "</div>"
      ],
      "text/plain": [
       "            Area2  OrderNum\n",
       "0          四川省成都市       885\n",
       "1          广东省深圳市       783\n",
       "2          广东省广州市       781\n",
       "3          广东省东莞市       514\n",
       "4          浙江省杭州市       481\n",
       "5          贵州省贵阳市       469\n",
       "6          江苏省苏州市       444\n",
       "7          陕西省西安市       430\n",
       "8          广东省佛山市       421\n",
       "9          浙江省宁波市       399\n",
       "10         贵州省遵义市       396\n",
       "11         河南省郑州市       382\n",
       "12         湖北省武汉市       375\n",
       "13         湖南省长沙市       361\n",
       "14          云南省昆明       344\n",
       "15         浙江省金华市       343\n",
       "16        河北省石家庄市       339\n",
       "17     广西壮族自治区南宁市       338\n",
       "18         山东省潍坊市       332\n",
       "19         浙江省温州市       327\n",
       "20         山东省烟台市       307\n",
       "21         山东省青岛市       306\n",
       "22         贵州省毕节市       298\n",
       "23         河北省保定市       296\n",
       "24          云南省昭通       270\n",
       "25         河南省南阳市       263\n",
       "26         江苏省无锡市       262\n",
       "27         广东省惠州市       254\n",
       "28         浙江省台州市       252\n",
       "29       黑龙江省哈尔滨市       250\n",
       "..            ...       ...\n",
       "436   新疆维吾尔自治区克孜市         6\n",
       "437    青海省海南藏族自治州         5\n",
       "438   新疆维吾尔自治区五家市         5\n",
       "439        海南省屯昌县         5\n",
       "440     西藏自治区那曲地区         5\n",
       "441    海南省昌江黎族自治县         5\n",
       "442        重庆市双桥区         4\n",
       "443    青海省玉树藏族自治州         4\n",
       "444        天津市红桥区         4\n",
       "445  海南省保亭黎族苗族自治县         4\n",
       "446         吉林省默认         4\n",
       "447     西藏自治区阿里地区         4\n",
       "448        北京市崇文区         3\n",
       "449         湖北省默认         3\n",
       "450    海南省白沙黎族自治县         3\n",
       "451   新疆维吾尔自治区图木市         2\n",
       "452        上海市卢湾区         2\n",
       "453        浙江省温岭市         2\n",
       "454  海南省琼中黎族苗族自治县         2\n",
       "455      湖北省神农架林区         2\n",
       "456         安徽省默认         2\n",
       "457    青海省果洛藏族自治州         1\n",
       "458        湖北省通城县         1\n",
       "459       贵州省那曲地区         1\n",
       "460       海南省五指山市         1\n",
       "461        陕西省靖边县         1\n",
       "462         四川省默认         1\n",
       "463    青海省黄南藏族自治州         1\n",
       "464         江苏省默认         1\n",
       "465        广东省普宁市         1\n",
       "\n",
       "[466 rows x 2 columns]"
      ]
     },
     "execution_count": 48,
     "metadata": {},
     "output_type": "execute_result"
    }
   ],
   "source": [
    "city_details.reset_index()"
   ]
  },
  {
   "cell_type": "code",
   "execution_count": null,
   "metadata": {
    "collapsed": true
   },
   "outputs": [],
   "source": []
  },
  {
   "cell_type": "code",
   "execution_count": 140,
   "metadata": {
    "collapsed": false
   },
   "outputs": [],
   "source": [
    "data2 = data2.set_index(\"Time\")"
   ]
  },
  {
   "cell_type": "code",
   "execution_count": 142,
   "metadata": {
    "collapsed": false
   },
   "outputs": [
    {
     "data": {
      "text/plain": [
       "DatetimeIndex(['2016-11-20 22:10:59', '2016-11-29 12:49:43',\n",
       "               '2016-11-05 07:28:06', '2016-11-20 16:20:41',\n",
       "               '2016-12-26 09:02:03', '2016-10-26 16:21:54',\n",
       "               '2016-10-28 20:58:01', '2016-11-03 23:18:49',\n",
       "               '2016-10-20 05:13:09', '2016-12-13 05:46:56',\n",
       "               ...\n",
       "               '2017-02-22 20:36:06', '2016-10-27 11:25:23',\n",
       "               '2016-11-03 12:50:38', '2017-02-22 00:47:32',\n",
       "               '2016-10-18 04:46:21', '2016-12-20 23:59:06',\n",
       "               '2016-11-29 11:02:31', '2016-11-17 06:24:59',\n",
       "               '2016-11-13 10:39:06', '2016-10-28 14:44:00'],\n",
       "              dtype='datetime64[ns]', name=u'Time', length=44146, freq=None)"
      ]
     },
     "execution_count": 142,
     "metadata": {},
     "output_type": "execute_result"
    }
   ],
   "source": [
    "data2.index"
   ]
  },
  {
   "cell_type": "code",
   "execution_count": 151,
   "metadata": {
    "collapsed": false
   },
   "outputs": [],
   "source": [
    "stamp=data2.index[0]"
   ]
  },
  {
   "cell_type": "code",
   "execution_count": 153,
   "metadata": {
    "collapsed": false
   },
   "outputs": [
    {
     "data": {
      "text/plain": [
       "OrderNum                   559815\n",
       "Category                     皮鞋01\n",
       "Product      男黑39码1双，赠:猎豹皮带（蓝黑随机）\n",
       "Price                          99\n",
       "Phone                 1359****377\n",
       "Address           重庆市忠县忠州镇州屏*****\n",
       "OrderDate              2016/11/20\n",
       "OrderTime                22:10:59\n",
       "Status                   等待客服最后确认\n",
       "Channel                lxywen0001\n",
       "Province                      重庆市\n",
       "City                           忠县\n",
       "Hour                           22\n",
       "Name: 2016-11-20 22:10:59, dtype: object"
      ]
     },
     "execution_count": 153,
     "metadata": {},
     "output_type": "execute_result"
    }
   ],
   "source": [
    "data2.ix[stamp]"
   ]
  },
  {
   "cell_type": "code",
   "execution_count": 154,
   "metadata": {
    "collapsed": false
   },
   "outputs": [
    {
     "data": {
      "text/plain": [
       "False"
      ]
     },
     "execution_count": 154,
     "metadata": {},
     "output_type": "execute_result"
    }
   ],
   "source": [
    "data2.index.is_unique"
   ]
  },
  {
   "cell_type": "code",
   "execution_count": 155,
   "metadata": {
    "collapsed": true
   },
   "outputs": [],
   "source": [
    "data2.index = pd.to_datetime(data2.OrderDate + \" \" + data2.OrderTime)"
   ]
  },
  {
   "cell_type": "code",
   "execution_count": 156,
   "metadata": {
    "collapsed": false
   },
   "outputs": [
    {
     "data": {
      "text/plain": [
       "DatetimeIndex(['2016-11-20 22:10:59', '2016-11-29 12:49:43',\n",
       "               '2016-11-05 07:28:06', '2016-11-20 16:20:41',\n",
       "               '2016-12-26 09:02:03', '2016-10-26 16:21:54',\n",
       "               '2016-10-28 20:58:01', '2016-11-03 23:18:49',\n",
       "               '2016-10-20 05:13:09', '2016-12-13 05:46:56',\n",
       "               ...\n",
       "               '2017-02-22 20:36:06', '2016-10-27 11:25:23',\n",
       "               '2016-11-03 12:50:38', '2017-02-22 00:47:32',\n",
       "               '2016-10-18 04:46:21', '2016-12-20 23:59:06',\n",
       "               '2016-11-29 11:02:31', '2016-11-17 06:24:59',\n",
       "               '2016-11-13 10:39:06', '2016-10-28 14:44:00'],\n",
       "              dtype='datetime64[ns]', length=44146, freq=None)"
      ]
     },
     "execution_count": 156,
     "metadata": {},
     "output_type": "execute_result"
    }
   ],
   "source": [
    "data2.index"
   ]
  },
  {
   "cell_type": "code",
   "execution_count": 158,
   "metadata": {
    "collapsed": false
   },
   "outputs": [
    {
     "data": {
      "text/plain": [
       "DatetimeIndex(['2016-11-20 22:10:59', '2016-11-29 12:49:43',\n",
       "               '2016-11-05 07:28:06', '2016-11-20 16:20:41',\n",
       "               '2016-12-26 09:02:03', '2016-10-26 16:21:54',\n",
       "               '2016-10-28 20:58:01', '2016-11-03 23:18:49',\n",
       "               '2016-10-20 05:13:09', '2016-12-13 05:46:56',\n",
       "               ...\n",
       "               '2017-02-22 20:36:06', '2016-10-27 11:25:23',\n",
       "               '2016-11-03 12:50:38', '2017-02-22 00:47:32',\n",
       "               '2016-10-18 04:46:21', '2016-12-20 23:59:06',\n",
       "               '2016-11-29 11:02:31', '2016-11-17 06:24:59',\n",
       "               '2016-11-13 10:39:06', '2016-10-28 14:44:00'],\n",
       "              dtype='datetime64[ns]', length=44146, freq=None)"
      ]
     },
     "execution_count": 158,
     "metadata": {},
     "output_type": "execute_result"
    }
   ],
   "source": [
    "data.index"
   ]
  },
  {
   "cell_type": "code",
   "execution_count": 159,
   "metadata": {
    "collapsed": false
   },
   "outputs": [
    {
     "data": {
      "text/html": [
       "<div>\n",
       "<table border=\"1\" class=\"dataframe\">\n",
       "  <thead>\n",
       "    <tr style=\"text-align: right;\">\n",
       "      <th></th>\n",
       "      <th>OrderNum</th>\n",
       "      <th>Category</th>\n",
       "      <th>Product</th>\n",
       "      <th>Price</th>\n",
       "      <th>Phone</th>\n",
       "      <th>Address</th>\n",
       "      <th>OrderDate</th>\n",
       "      <th>OrderTime</th>\n",
       "      <th>Status</th>\n",
       "      <th>Channel</th>\n",
       "      <th>Province</th>\n",
       "      <th>City</th>\n",
       "      <th>Hour</th>\n",
       "    </tr>\n",
       "  </thead>\n",
       "  <tbody>\n",
       "    <tr>\n",
       "      <th>2016-11-20 22:10:59</th>\n",
       "      <td>559815</td>\n",
       "      <td>皮鞋01</td>\n",
       "      <td>男黑39码1双，赠:猎豹皮带（蓝黑随机）</td>\n",
       "      <td>99.0</td>\n",
       "      <td>1359****377</td>\n",
       "      <td>重庆市忠县忠州镇州屏*****</td>\n",
       "      <td>2016/11/20</td>\n",
       "      <td>22:10:59</td>\n",
       "      <td>等待客服最后确认</td>\n",
       "      <td>lxywen0001</td>\n",
       "      <td>重庆市</td>\n",
       "      <td>忠县</td>\n",
       "      <td>22</td>\n",
       "    </tr>\n",
       "    <tr>\n",
       "      <th>2016-11-29 12:49:43</th>\n",
       "      <td>570971</td>\n",
       "      <td>雪地靴</td>\n",
       "      <td>男款卡其39码1双，赠:（猎豹皮带、手表）*1套</td>\n",
       "      <td>99.0</td>\n",
       "      <td>1822****678</td>\n",
       "      <td>重庆市忠县忠州镇新华*****</td>\n",
       "      <td>2016/11/29</td>\n",
       "      <td>12:49:43</td>\n",
       "      <td>等待客服最后确认</td>\n",
       "      <td>lxywen0004</td>\n",
       "      <td>重庆市</td>\n",
       "      <td>忠县</td>\n",
       "      <td>12</td>\n",
       "    </tr>\n",
       "    <tr>\n",
       "      <th>2016-11-05 07:28:06</th>\n",
       "      <td>536569</td>\n",
       "      <td>皮鞋01</td>\n",
       "      <td>男黑41码1双，赠:猎豹皮带（蓝黑随机）</td>\n",
       "      <td>99.0</td>\n",
       "      <td>1592****012</td>\n",
       "      <td>重庆市忠县忠州镇人民*****</td>\n",
       "      <td>2016/11/5</td>\n",
       "      <td>7:28:06</td>\n",
       "      <td>等待客服最后确认</td>\n",
       "      <td>lxywen0003</td>\n",
       "      <td>重庆市</td>\n",
       "      <td>忠县</td>\n",
       "      <td>7</td>\n",
       "    </tr>\n",
       "    <tr>\n",
       "      <th>2016-11-20 16:20:41</th>\n",
       "      <td>559570</td>\n",
       "      <td>雪山冲锋衣</td>\n",
       "      <td>男款蓝色 2XL/A 赠：猎豹皮带、LXLG钱包</td>\n",
       "      <td>158.0</td>\n",
       "      <td>1582****828</td>\n",
       "      <td>重庆市忠县忠州镇红星*****</td>\n",
       "      <td>2016/11/20</td>\n",
       "      <td>16:20:41</td>\n",
       "      <td>等待客服最后确认</td>\n",
       "      <td>lxywen0003</td>\n",
       "      <td>重庆市</td>\n",
       "      <td>忠县</td>\n",
       "      <td>16</td>\n",
       "    </tr>\n",
       "    <tr>\n",
       "      <th>2016-12-26 09:02:03</th>\n",
       "      <td>599087</td>\n",
       "      <td>雪地靴</td>\n",
       "      <td>男款深蓝41码1双，赠:（手表、钱包、猎豹皮带）*1套</td>\n",
       "      <td>99.0</td>\n",
       "      <td>1816****061</td>\n",
       "      <td>重庆市忠县忠州镇弘海*****</td>\n",
       "      <td>2016/12/26</td>\n",
       "      <td>9:02:03</td>\n",
       "      <td>等待客服最后确认</td>\n",
       "      <td>lxywen0001</td>\n",
       "      <td>重庆市</td>\n",
       "      <td>忠县</td>\n",
       "      <td>9</td>\n",
       "    </tr>\n",
       "  </tbody>\n",
       "</table>\n",
       "</div>"
      ],
      "text/plain": [
       "                     OrderNum Category                      Product  Price  \\\n",
       "2016-11-20 22:10:59    559815     皮鞋01         男黑39码1双，赠:猎豹皮带（蓝黑随机）   99.0   \n",
       "2016-11-29 12:49:43    570971      雪地靴     男款卡其39码1双，赠:（猎豹皮带、手表）*1套   99.0   \n",
       "2016-11-05 07:28:06    536569     皮鞋01         男黑41码1双，赠:猎豹皮带（蓝黑随机）   99.0   \n",
       "2016-11-20 16:20:41    559570    雪山冲锋衣     男款蓝色 2XL/A 赠：猎豹皮带、LXLG钱包  158.0   \n",
       "2016-12-26 09:02:03    599087      雪地靴  男款深蓝41码1双，赠:（手表、钱包、猎豹皮带）*1套   99.0   \n",
       "\n",
       "                           Phone          Address   OrderDate OrderTime  \\\n",
       "2016-11-20 22:10:59  1359****377  重庆市忠县忠州镇州屏*****  2016/11/20  22:10:59   \n",
       "2016-11-29 12:49:43  1822****678  重庆市忠县忠州镇新华*****  2016/11/29  12:49:43   \n",
       "2016-11-05 07:28:06  1592****012  重庆市忠县忠州镇人民*****   2016/11/5   7:28:06   \n",
       "2016-11-20 16:20:41  1582****828  重庆市忠县忠州镇红星*****  2016/11/20  16:20:41   \n",
       "2016-12-26 09:02:03  1816****061  重庆市忠县忠州镇弘海*****  2016/12/26   9:02:03   \n",
       "\n",
       "                       Status     Channel Province City  Hour  \n",
       "2016-11-20 22:10:59  等待客服最后确认  lxywen0001      重庆市   忠县    22  \n",
       "2016-11-29 12:49:43  等待客服最后确认  lxywen0004      重庆市   忠县    12  \n",
       "2016-11-05 07:28:06  等待客服最后确认  lxywen0003      重庆市   忠县     7  \n",
       "2016-11-20 16:20:41  等待客服最后确认  lxywen0003      重庆市   忠县    16  \n",
       "2016-12-26 09:02:03  等待客服最后确认  lxywen0001      重庆市   忠县     9  "
      ]
     },
     "execution_count": 159,
     "metadata": {},
     "output_type": "execute_result"
    }
   ],
   "source": [
    "data.head()"
   ]
  },
  {
   "cell_type": "code",
   "execution_count": 160,
   "metadata": {
    "collapsed": false
   },
   "outputs": [
    {
     "data": {
      "text/html": [
       "<div>\n",
       "<table border=\"1\" class=\"dataframe\">\n",
       "  <thead>\n",
       "    <tr style=\"text-align: right;\">\n",
       "      <th></th>\n",
       "      <th>OrderNum</th>\n",
       "      <th>Category</th>\n",
       "      <th>Product</th>\n",
       "      <th>Price</th>\n",
       "      <th>Phone</th>\n",
       "      <th>Address</th>\n",
       "      <th>OrderDate</th>\n",
       "      <th>OrderTime</th>\n",
       "      <th>Status</th>\n",
       "      <th>Channel</th>\n",
       "      <th>Province</th>\n",
       "      <th>City</th>\n",
       "      <th>Hour</th>\n",
       "    </tr>\n",
       "  </thead>\n",
       "  <tbody>\n",
       "    <tr>\n",
       "      <th>0</th>\n",
       "      <td>559815</td>\n",
       "      <td>皮鞋01</td>\n",
       "      <td>男黑39码1双，赠:猎豹皮带（蓝黑随机）</td>\n",
       "      <td>99.0</td>\n",
       "      <td>1359****377</td>\n",
       "      <td>重庆市忠县忠州镇州屏*****</td>\n",
       "      <td>2016/11/20</td>\n",
       "      <td>22:10:59</td>\n",
       "      <td>等待客服最后确认</td>\n",
       "      <td>lxywen0001</td>\n",
       "      <td>重庆市</td>\n",
       "      <td>忠县</td>\n",
       "      <td>22</td>\n",
       "    </tr>\n",
       "    <tr>\n",
       "      <th>1</th>\n",
       "      <td>570971</td>\n",
       "      <td>雪地靴</td>\n",
       "      <td>男款卡其39码1双，赠:（猎豹皮带、手表）*1套</td>\n",
       "      <td>99.0</td>\n",
       "      <td>1822****678</td>\n",
       "      <td>重庆市忠县忠州镇新华*****</td>\n",
       "      <td>2016/11/29</td>\n",
       "      <td>12:49:43</td>\n",
       "      <td>等待客服最后确认</td>\n",
       "      <td>lxywen0004</td>\n",
       "      <td>重庆市</td>\n",
       "      <td>忠县</td>\n",
       "      <td>12</td>\n",
       "    </tr>\n",
       "    <tr>\n",
       "      <th>2</th>\n",
       "      <td>536569</td>\n",
       "      <td>皮鞋01</td>\n",
       "      <td>男黑41码1双，赠:猎豹皮带（蓝黑随机）</td>\n",
       "      <td>99.0</td>\n",
       "      <td>1592****012</td>\n",
       "      <td>重庆市忠县忠州镇人民*****</td>\n",
       "      <td>2016/11/5</td>\n",
       "      <td>7:28:06</td>\n",
       "      <td>等待客服最后确认</td>\n",
       "      <td>lxywen0003</td>\n",
       "      <td>重庆市</td>\n",
       "      <td>忠县</td>\n",
       "      <td>7</td>\n",
       "    </tr>\n",
       "    <tr>\n",
       "      <th>3</th>\n",
       "      <td>559570</td>\n",
       "      <td>雪山冲锋衣</td>\n",
       "      <td>男款蓝色 2XL/A 赠：猎豹皮带、LXLG钱包</td>\n",
       "      <td>158.0</td>\n",
       "      <td>1582****828</td>\n",
       "      <td>重庆市忠县忠州镇红星*****</td>\n",
       "      <td>2016/11/20</td>\n",
       "      <td>16:20:41</td>\n",
       "      <td>等待客服最后确认</td>\n",
       "      <td>lxywen0003</td>\n",
       "      <td>重庆市</td>\n",
       "      <td>忠县</td>\n",
       "      <td>16</td>\n",
       "    </tr>\n",
       "    <tr>\n",
       "      <th>4</th>\n",
       "      <td>599087</td>\n",
       "      <td>雪地靴</td>\n",
       "      <td>男款深蓝41码1双，赠:（手表、钱包、猎豹皮带）*1套</td>\n",
       "      <td>99.0</td>\n",
       "      <td>1816****061</td>\n",
       "      <td>重庆市忠县忠州镇弘海*****</td>\n",
       "      <td>2016/12/26</td>\n",
       "      <td>9:02:03</td>\n",
       "      <td>等待客服最后确认</td>\n",
       "      <td>lxywen0001</td>\n",
       "      <td>重庆市</td>\n",
       "      <td>忠县</td>\n",
       "      <td>9</td>\n",
       "    </tr>\n",
       "  </tbody>\n",
       "</table>\n",
       "</div>"
      ],
      "text/plain": [
       "   OrderNum Category                      Product  Price        Phone  \\\n",
       "0    559815     皮鞋01         男黑39码1双，赠:猎豹皮带（蓝黑随机）   99.0  1359****377   \n",
       "1    570971      雪地靴     男款卡其39码1双，赠:（猎豹皮带、手表）*1套   99.0  1822****678   \n",
       "2    536569     皮鞋01         男黑41码1双，赠:猎豹皮带（蓝黑随机）   99.0  1592****012   \n",
       "3    559570    雪山冲锋衣     男款蓝色 2XL/A 赠：猎豹皮带、LXLG钱包  158.0  1582****828   \n",
       "4    599087      雪地靴  男款深蓝41码1双，赠:（手表、钱包、猎豹皮带）*1套   99.0  1816****061   \n",
       "\n",
       "           Address   OrderDate OrderTime    Status     Channel Province City  \\\n",
       "0  重庆市忠县忠州镇州屏*****  2016/11/20  22:10:59  等待客服最后确认  lxywen0001      重庆市   忠县   \n",
       "1  重庆市忠县忠州镇新华*****  2016/11/29  12:49:43  等待客服最后确认  lxywen0004      重庆市   忠县   \n",
       "2  重庆市忠县忠州镇人民*****   2016/11/5   7:28:06  等待客服最后确认  lxywen0003      重庆市   忠县   \n",
       "3  重庆市忠县忠州镇红星*****  2016/11/20  16:20:41  等待客服最后确认  lxywen0003      重庆市   忠县   \n",
       "4  重庆市忠县忠州镇弘海*****  2016/12/26   9:02:03  等待客服最后确认  lxywen0001      重庆市   忠县   \n",
       "\n",
       "   Hour  \n",
       "0    22  \n",
       "1    12  \n",
       "2     7  \n",
       "3    16  \n",
       "4     9  "
      ]
     },
     "execution_count": 160,
     "metadata": {},
     "output_type": "execute_result"
    }
   ],
   "source": [
    "data_copy.head()"
   ]
  },
  {
   "cell_type": "code",
   "execution_count": 198,
   "metadata": {
    "collapsed": false
   },
   "outputs": [
    {
     "data": {
      "text/plain": [
       "True"
      ]
     },
     "execution_count": 198,
     "metadata": {},
     "output_type": "execute_result"
    }
   ],
   "source": [
    "np.inf > 100"
   ]
  },
  {
   "cell_type": "code",
   "execution_count": 250,
   "metadata": {
    "collapsed": false
   },
   "outputs": [
    {
     "data": {
      "text/plain": [
       "City\n",
       "成都市          885\n",
       "深圳市          783\n",
       "广州市          781\n",
       "东莞市          514\n",
       "杭州市          481\n",
       "贵阳市          469\n",
       "苏州市          444\n",
       "西安市          430\n",
       "佛山市          421\n",
       "宁波市          399\n",
       "遵义市          396\n",
       "郑州市          382\n",
       "武汉市          375\n",
       "长沙市          361\n",
       "昆明           344\n",
       "金华市          343\n",
       "石家庄市         339\n",
       "南宁市          338\n",
       "潍坊市          332\n",
       "温州市          327\n",
       "烟台市          307\n",
       "青岛市          306\n",
       "毕节市          298\n",
       "保定市          296\n",
       "昭通           270\n",
       "南阳市          263\n",
       "无锡市          262\n",
       "惠州市          254\n",
       "台州市          252\n",
       "常德市          250\n",
       "            ... \n",
       "东方市            7\n",
       "和平区            7\n",
       "那曲地区           6\n",
       "克孜市            6\n",
       "万盛区            6\n",
       "定安县            6\n",
       "陵水黎族自治县        6\n",
       "澄迈县            6\n",
       "海南藏族自治州        5\n",
       "屯昌县            5\n",
       "昌江黎族自治县        5\n",
       "五家市            5\n",
       "阿里地区           4\n",
       "玉树藏族自治州        4\n",
       "保亭黎族苗族自治县      4\n",
       "双桥区            4\n",
       "红桥区            4\n",
       "白沙黎族自治县        3\n",
       "崇文区            3\n",
       "温岭市            2\n",
       "神农架林区          2\n",
       "卢湾区            2\n",
       "琼中黎族苗族自治县      2\n",
       "图木市            2\n",
       "黄南藏族自治州        1\n",
       "五指山市           1\n",
       "普宁市            1\n",
       "靖边县            1\n",
       "通城县            1\n",
       "果洛藏族自治州        1\n",
       "Name: OrderNum, dtype: int64"
      ]
     },
     "execution_count": 250,
     "metadata": {},
     "output_type": "execute_result"
    }
   ],
   "source": [
    "data.groupby([\"City\"])[\"OrderNum\"].count().sort_values(ascending=False)"
   ]
  },
  {
   "cell_type": "code",
   "execution_count": 268,
   "metadata": {
    "collapsed": false
   },
   "outputs": [],
   "source": [
    "tmp = data.groupby([\"City\"])[\"OrderNum\"].count()"
   ]
  },
  {
   "cell_type": "code",
   "execution_count": 278,
   "metadata": {
    "collapsed": false
   },
   "outputs": [
    {
     "data": {
      "text/plain": [
       "96.32751091703057"
      ]
     },
     "execution_count": 278,
     "metadata": {},
     "output_type": "execute_result"
    }
   ],
   "source": [
    "tmp.mean()"
   ]
  },
  {
   "cell_type": "code",
   "execution_count": 265,
   "metadata": {
    "collapsed": false
   },
   "outputs": [
    {
     "data": {
      "text/plain": [
       "u'\\u6210\\u90fd\\u5e02'"
      ]
     },
     "execution_count": 265,
     "metadata": {},
     "output_type": "execute_result"
    }
   ],
   "source": [
    "unicode(s)"
   ]
  },
  {
   "cell_type": "code",
   "execution_count": 335,
   "metadata": {
    "collapsed": false
   },
   "outputs": [],
   "source": [
    "aa = data[data.Province == \"四川省\"]"
   ]
  },
  {
   "cell_type": "code",
   "execution_count": 336,
   "metadata": {
    "collapsed": false
   },
   "outputs": [
    {
     "data": {
      "text/html": [
       "<div>\n",
       "<table border=\"1\" class=\"dataframe\">\n",
       "  <thead>\n",
       "    <tr style=\"text-align: right;\">\n",
       "      <th></th>\n",
       "      <th>OrderNum</th>\n",
       "      <th>Category</th>\n",
       "      <th>Product</th>\n",
       "      <th>Price</th>\n",
       "      <th>Phone</th>\n",
       "      <th>Address</th>\n",
       "      <th>OrderDate</th>\n",
       "      <th>OrderTime</th>\n",
       "      <th>Status</th>\n",
       "      <th>Channel</th>\n",
       "      <th>Province</th>\n",
       "      <th>City</th>\n",
       "      <th>Hour</th>\n",
       "      <th>Area2</th>\n",
       "    </tr>\n",
       "  </thead>\n",
       "  <tbody>\n",
       "    <tr>\n",
       "      <th>2017-05-14 14:22:26</th>\n",
       "      <td>836768</td>\n",
       "      <td>椰子休闲鞋</td>\n",
       "      <td>椰子休闲鞋男灰41码*1</td>\n",
       "      <td>39.0</td>\n",
       "      <td>1317****801</td>\n",
       "      <td>四川省_海口市_龙华*****省海口市龙华区红城湖路大英山路海航日月、一</td>\n",
       "      <td>2017/5/14</td>\n",
       "      <td>14:22:26</td>\n",
       "      <td>等待客服最后确认</td>\n",
       "      <td>ywn0010</td>\n",
       "      <td>四川省</td>\n",
       "      <td>海口市</td>\n",
       "      <td>14</td>\n",
       "      <td>四川省海口市</td>\n",
       "    </tr>\n",
       "  </tbody>\n",
       "</table>\n",
       "</div>"
      ],
      "text/plain": [
       "                     OrderNum Category       Product  Price        Phone  \\\n",
       "2017-05-14 14:22:26    836768    椰子休闲鞋  椰子休闲鞋男灰41码*1   39.0  1317****801   \n",
       "\n",
       "                                                  Address  OrderDate  \\\n",
       "2017-05-14 14:22:26  四川省_海口市_龙华*****省海口市龙华区红城湖路大英山路海航日月、一  2017/5/14   \n",
       "\n",
       "                    OrderTime    Status  Channel Province City  Hour   Area2  \n",
       "2017-05-14 14:22:26  14:22:26  等待客服最后确认  ywn0010      四川省  海口市    14  四川省海口市  "
      ]
     },
     "execution_count": 336,
     "metadata": {},
     "output_type": "execute_result"
    }
   ],
   "source": [
    "aa[aa.City == \"海口市\"]"
   ]
  },
  {
   "cell_type": "code",
   "execution_count": null,
   "metadata": {
    "collapsed": true
   },
   "outputs": [],
   "source": []
  }
 ],
 "metadata": {
  "anaconda-cloud": {},
  "kernelspec": {
   "display_name": "Python [conda root]",
   "language": "python",
   "name": "conda-root-py"
  },
  "language_info": {
   "codemirror_mode": {
    "name": "ipython",
    "version": 2
   },
   "file_extension": ".py",
   "mimetype": "text/x-python",
   "name": "python",
   "nbconvert_exporter": "python",
   "pygments_lexer": "ipython2",
   "version": "2.7.12"
  }
 },
 "nbformat": 4,
 "nbformat_minor": 1
}
